{
 "cells": [
  {
   "cell_type": "markdown",
   "metadata": {},
   "source": [
    "Esta actividad se centra principalmente en que hagáis los diferentes test de hipotesis de un tema que os interese:\n",
    "\n",
    "- Hipótesis respecto a un valor.\n",
    "\n",
    "- Hipótesis respecto dos muestras independientes.\n",
    "\n",
    "- Hipótesis varias categorías.\n",
    "\n",
    "- Hipótesis dos muestras relacionadas."
   ]
  },
  {
   "cell_type": "markdown",
   "metadata": {},
   "source": [
    "# Energia renovable generada por país en diferentes años"
   ]
  },
  {
   "cell_type": "code",
   "execution_count": 28,
   "metadata": {},
   "outputs": [
    {
     "data": {
      "text/html": [
       "<div>\n",
       "<style scoped>\n",
       "    .dataframe tbody tr th:only-of-type {\n",
       "        vertical-align: middle;\n",
       "    }\n",
       "\n",
       "    .dataframe tbody tr th {\n",
       "        vertical-align: top;\n",
       "    }\n",
       "\n",
       "    .dataframe thead th {\n",
       "        text-align: right;\n",
       "    }\n",
       "</style>\n",
       "<table border=\"1\" class=\"dataframe\">\n",
       "  <thead>\n",
       "    <tr style=\"text-align: right;\">\n",
       "      <th></th>\n",
       "      <th>Entity</th>\n",
       "      <th>Code</th>\n",
       "      <th>Year</th>\n",
       "      <th>Solar and wind electricity per capita (kWh)</th>\n",
       "    </tr>\n",
       "  </thead>\n",
       "  <tbody>\n",
       "    <tr>\n",
       "      <th>0</th>\n",
       "      <td>Afghanistan</td>\n",
       "      <td>AFG</td>\n",
       "      <td>2000</td>\n",
       "      <td>0.0</td>\n",
       "    </tr>\n",
       "    <tr>\n",
       "      <th>1</th>\n",
       "      <td>Afghanistan</td>\n",
       "      <td>AFG</td>\n",
       "      <td>2001</td>\n",
       "      <td>0.0</td>\n",
       "    </tr>\n",
       "    <tr>\n",
       "      <th>2</th>\n",
       "      <td>Afghanistan</td>\n",
       "      <td>AFG</td>\n",
       "      <td>2002</td>\n",
       "      <td>0.0</td>\n",
       "    </tr>\n",
       "    <tr>\n",
       "      <th>3</th>\n",
       "      <td>Afghanistan</td>\n",
       "      <td>AFG</td>\n",
       "      <td>2003</td>\n",
       "      <td>0.0</td>\n",
       "    </tr>\n",
       "    <tr>\n",
       "      <th>4</th>\n",
       "      <td>Afghanistan</td>\n",
       "      <td>AFG</td>\n",
       "      <td>2004</td>\n",
       "      <td>0.0</td>\n",
       "    </tr>\n",
       "  </tbody>\n",
       "</table>\n",
       "</div>"
      ],
      "text/plain": [
       "        Entity Code  Year  Solar and wind electricity per capita (kWh)\n",
       "0  Afghanistan  AFG  2000                                          0.0\n",
       "1  Afghanistan  AFG  2001                                          0.0\n",
       "2  Afghanistan  AFG  2002                                          0.0\n",
       "3  Afghanistan  AFG  2003                                          0.0\n",
       "4  Afghanistan  AFG  2004                                          0.0"
      ]
     },
     "execution_count": 28,
     "metadata": {},
     "output_type": "execute_result"
    }
   ],
   "source": [
    "import geopandas as gpd\n",
    "import pandas as pd\n",
    "import matplotlib.pyplot as plt\n",
    "import pingouin as pg\n",
    "from pingouin import ttest\n",
    "import seaborn as sns\n",
    "\n",
    "sns.set()\n",
    "\n",
    "data = pd.read_csv('per-capita-electricity-generation-from-solar-and-wind.csv')\n",
    "data.head()"
   ]
  },
  {
   "cell_type": "markdown",
   "metadata": {},
   "source": [
    "- # Creo que las energias renobables están sobrevaloradas y producen de media menos de 70 kWh.\n",
    "\n"
   ]
  },
  {
   "cell_type": "code",
   "execution_count": 29,
   "metadata": {},
   "outputs": [
    {
     "name": "stdout",
     "output_type": "stream",
     "text": [
      "82.69907462000302 kWh es el resultado de mi hipotesis\n",
      "------------------------------------------------------------------------------------------------------\n",
      "               T   dof alternative     p-val         CI95%  cohen-d    BF10  \\\n",
      "T-test  3.639567  6996     greater  0.000138  [76.96, inf]  0.04351  20.112   \n",
      "\n",
      "           power  \n",
      "T-test  0.976944  \n",
      "------------------------------------------------------------------------------------------------------\n",
      "El resultado de mi hipotesis, es que estaba equivocado, no se producen 70 kWh de media, si no que se producen  82.7 kWh\n",
      "Lo sé gracias a que el p-val esta por debajo de los 0.05\n"
     ]
    }
   ],
   "source": [
    "# data['Solar and wind electricity per capita (kWh)'] = pd.to_numeric(data['Solar and wind electricity per capita (kWh)'], errors='coerce')\n",
    "hip = data['Solar and wind electricity per capita (kWh)'].mean()\n",
    "\n",
    "print(hip, 'kWh es el resultado de mi hipotesis')\n",
    "print('------------------------------------------------------------------------------------------------------')\n",
    "\n",
    "\n",
    "test_resul1 = ttest(data['Solar and wind electricity per capita (kWh)']\n",
    ", 70, alternative='greater')\n",
    "print(test_resul1)\n",
    "\n",
    "print('------------------------------------------------------------------------------------------------------')\n",
    "\n",
    "print('El resultado de mi hipotesis, es que estaba equivocado, no se producen 70 kWh de media, si no que se producen ',round(hip,2), 'kWh')\n",
    "print('Lo sé gracias a que el p-val esta por debajo de los 0.05')\n"
   ]
  },
  {
   "cell_type": "markdown",
   "metadata": {},
   "source": [
    "- # ¿Se ha producido de media más energia renovable en España que en Italia?"
   ]
  },
  {
   "cell_type": "code",
   "execution_count": 30,
   "metadata": {},
   "outputs": [
    {
     "name": "stdout",
     "output_type": "stream",
     "text": [
      "405.5824704732758\n",
      "146.6732363910345\n",
      "------------------------------------------------------------------------------------------------------\n",
      "               T  dof alternative     p-val           CI95%   cohen-d   BF10  \\\n",
      "T-test -2.953582  114     greater  0.998092  [-404.28, inf]  0.548466  0.054   \n",
      "\n",
      "           power  \n",
      "T-test  0.000002  \n",
      "------------------------------------------------------------------------------------------------------\n",
      "El resultado de mi hipotesis, es que estaba en lo correcto, España produce más energia renovable que Italia exactamente:  258.9092340822413  kWh más que Italia\n",
      "Lo sé gracias a que el p-val esta por debajo de los 0.05\n"
     ]
    }
   ],
   "source": [
    "prod_Spain = data[data['Entity'] =='Spain']['Solar and wind electricity per capita (kWh)']\n",
    "prod_Italy = data[data['Entity'] =='Italy']['Solar and wind electricity per capita (kWh)']\n",
    "print(prod_Spain.mean())\n",
    "print(prod_Italy.mean())\n",
    "\n",
    "print('------------------------------------------------------------------------------------------------------')\n",
    "\n",
    "test_resul1 = ttest(prod_Italy, prod_Spain, alternative='greater')\n",
    "print(test_resul1)\n",
    "\n",
    "print('------------------------------------------------------------------------------------------------------')\n",
    "\n",
    "print('El resultado de mi hipotesis, es que estaba en lo correcto, España produce más energia renovable que Italia exactamente: ',prod_Spain.mean() - prod_Italy.mean(),' kWh más que Italia')\n",
    "print('Lo sé gracias a que el p-val esta por debajo de los 0.05')"
   ]
  },
  {
   "cell_type": "markdown",
   "metadata": {},
   "source": [
    "- # ¿Hay diferencia de producción entre España, Italia y Francia?, ¿en que país se produce más energía renovable de 2021?\n"
   ]
  },
  {
   "cell_type": "code",
   "execution_count": 31,
   "metadata": {},
   "outputs": [
    {
     "name": "stdout",
     "output_type": "stream",
     "text": [
      "Entity\n",
      "France    216.435005\n",
      "Italy     146.673236\n",
      "Spain     405.582470\n",
      "Name: Solar and wind electricity per capita (kWh), dtype: float64\n"
     ]
    },
    {
     "data": {
      "text/html": [
       "<div>\n",
       "<style scoped>\n",
       "    .dataframe tbody tr th:only-of-type {\n",
       "        vertical-align: middle;\n",
       "    }\n",
       "\n",
       "    .dataframe tbody tr th {\n",
       "        vertical-align: top;\n",
       "    }\n",
       "\n",
       "    .dataframe thead th {\n",
       "        text-align: right;\n",
       "    }\n",
       "</style>\n",
       "<table border=\"1\" class=\"dataframe\">\n",
       "  <thead>\n",
       "    <tr style=\"text-align: right;\">\n",
       "      <th></th>\n",
       "      <th>Source</th>\n",
       "      <th>ddof1</th>\n",
       "      <th>ddof2</th>\n",
       "      <th>F</th>\n",
       "      <th>p-unc</th>\n",
       "      <th>np2</th>\n",
       "    </tr>\n",
       "  </thead>\n",
       "  <tbody>\n",
       "    <tr>\n",
       "      <th>0</th>\n",
       "      <td>Entity</td>\n",
       "      <td>2</td>\n",
       "      <td>146</td>\n",
       "      <td>5.285679</td>\n",
       "      <td>0.006078</td>\n",
       "      <td>0.067518</td>\n",
       "    </tr>\n",
       "  </tbody>\n",
       "</table>\n",
       "</div>"
      ],
      "text/plain": [
       "   Source  ddof1  ddof2         F     p-unc       np2\n",
       "0  Entity      2    146  5.285679  0.006078  0.067518"
      ]
     },
     "metadata": {},
     "output_type": "display_data"
    }
   ],
   "source": [
    "# data_filtrado = data[data['Entity'] != 'World'][['Solar and wind electricity per capita (kWh)','Entity']]\n",
    "\n",
    "paises = ['Spain','Italy','France']\n",
    "\n",
    "data_diferencias = data[data['Entity'].isin(paises)]\n",
    "[['Solar and wind electricity per capita (kWh)','Entity']]\n",
    "\n",
    "\n",
    "print(data_diferencias.groupby('Entity')['Solar and wind electricity per capita (kWh)'].mean())\n",
    "\n",
    "anova_resul = pg.anova(data=data_diferencias, dv='Solar and wind electricity per capita (kWh)', between ='Entity')\n",
    "\n",
    "display(anova_resul)\n",
    "\n",
    "\n",
    "\n",
    "\n",
    "plt.show()"
   ]
  },
  {
   "cell_type": "code",
   "execution_count": 32,
   "metadata": {},
   "outputs": [
    {
     "data": {
      "image/png": "[encoded data removed]",
      "text/plain": [
       "<Figure size 640x480 with 1 Axes>"
      ]
     },
     "metadata": {},
     "output_type": "display_data"
    },
    {
     "name": "stdout",
     "output_type": "stream",
     "text": [
      "-----------------------------------------------------------------------------------------\n",
      "Desde este gráfico se puede ver claramente que exiaste una diferencia de producción entre los diferentes países\n",
      "Y podemos ver que España produce mayor cantidad de energia, y teniendo varios años que sobresale de su media\n"
     ]
    }
   ],
   "source": [
    "# print(data_filtrado)\n",
    "\n",
    "paises = ['Spain','Italy','France']\n",
    "\n",
    "data_boxplot = data[data['Entity'].isin(paises)]\n",
    "[['Solar and wind electricity per capita (kWh)','Entity']]\n",
    "\n",
    "# data_boxplot = data_boxplot.groupby('Entity')['Solar and wind electricity per capita (kWh)'].mean()\n",
    "\n",
    "sns.boxplot(x='Entity', y='Solar and wind electricity per capita (kWh)', data=data_boxplot)\n",
    "plt.title('KWH producidos por País')\n",
    "plt.xlabel('País')\n",
    "plt.ylabel('kWh')\n",
    "plt.show()\n",
    "\n",
    "print('-----------------------------------------------------------------------------------------')\n",
    "print('Desde este gráfico se puede ver claramente que exiaste una diferencia de producción entre los diferentes países')\n",
    "print('Y podemos ver que España produce mayor cantidad de energia, y teniendo varios años que sobresale de su media')\n"
   ]
  },
  {
   "cell_type": "markdown",
   "metadata": {},
   "source": [
    "- # ¿Se han producido más con las energias renobables en España desde el año 2012 hasta el 2017, o desde el 2018 hasta el 2021?\n"
   ]
  },
  {
   "cell_type": "code",
   "execution_count": 38,
   "metadata": {},
   "outputs": [
    {
     "name": "stdout",
     "output_type": "stream",
     "text": [
      "6366.7892999999995\n",
      "-----------------------------------------------------------------------------------------\n",
      "8273.237599999999\n",
      "-----------------------------------------------------------------------------------------\n",
      "               T       dof alternative     p-val         CI95%   cohen-d  \\\n",
      "T-test -1.894509  3.272654        less  0.073378  [-inf, 42.8]  1.499111   \n",
      "\n",
      "         BF10     power  \n",
      "T-test  2.568  0.682738  \n",
      "-----------------------------------------------------------------------------------------\n",
      "El resultado de mi hipotesis, es que España ha producido más energia desde el año 2012 hasta el 2017\n",
      "Lo sé gracias a que el p-val esta por encima de los 0.05\n"
     ]
    },
    {
     "name": "stderr",
     "output_type": "stream",
     "text": [
      "c:\\Users\\erikr\\AppData\\Local\\Programs\\Python\\Python310\\lib\\site-packages\\pingouin\\parametric.py:228: UserWarning: x and y have unequal sizes. Switching to paired == False. Check your data.\n",
      "  warnings.warn(\"x and y have unequal sizes. Switching to paired == False. Check your data.\")\n"
     ]
    },
    {
     "data": {
      "image/png": "[encoded data removed]",
      "text/plain": [
       "<Figure size 640x480 with 1 Axes>"
      ]
     },
     "metadata": {},
     "output_type": "display_data"
    }
   ],
   "source": [
    "prod_Spain_2021 = data[(data['Entity'] == 'Spain') & (data['Year'] >= 2018) & (data['Year'] <= 2021)]['Solar and wind electricity per capita (kWh)']\n",
    "\n",
    "prod_Spain_2012 = data[(data['Entity'] == 'Spain') & (data['Year'] >= 2012) & (data['Year'] <= 2017)]['Solar and wind electricity per capita (kWh)']\n",
    "\n",
    "print(sum(prod_Spain_2021))\n",
    "print('-----------------------------------------------------------------------------------------')\n",
    "print(sum(prod_Spain_2012))\n",
    "print('-----------------------------------------------------------------------------------------')\n",
    "print(ttest(prod_Spain_2012, prod_Spain_2021, paired=True, alternative='less'))\n",
    "print('-----------------------------------------------------------------------------------------')\n",
    "\n",
    "\n",
    "data_rango = {'Rango': ['2012-2017', '2018-2021'],\n",
    "        'valor': [sum(prod_Spain_2012), sum(prod_Spain_2021)]}\n",
    "df = pd.DataFrame(data_rango)\n",
    "\n",
    "\n",
    "df.plot(x='Rango',y='valor', kind='bar',)\n",
    "plt.title(\"Producción por país\")\n",
    "plt.xticks(rotation=45)\n",
    "print('El resultado de mi hipotesis, es que España ha producido más energia desde el año 2012 hasta el 2017')\n",
    "print('Lo sé gracias a que el p-val esta por encima de los 0.05')\n"
   ]
  }
 ],
 "metadata": {
  "kernelspec": {
   "display_name": "Python 3",
   "language": "python",
   "name": "python3"
  },
  "language_info": {
   "codemirror_mode": {
    "name": "ipython",
    "version": 3
   },
   "file_extension": ".py",
   "mimetype": "text/x-python",
   "name": "python",
   "nbconvert_exporter": "python",
   "pygments_lexer": "ipython3",
   "version": "3.10.11"
  }
 },
 "nbformat": 4,
 "nbformat_minor": 2
}
